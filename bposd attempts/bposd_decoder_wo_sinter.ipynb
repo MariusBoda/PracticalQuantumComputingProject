{
 "cells": [
  {
   "cell_type": "code",
   "execution_count": 56,
   "metadata": {},
   "outputs": [],
   "source": [
    "import numpy as np\n",
    "import stim\n",
    "from ldpc.bposd_decoder import BpOsdDecoder\n",
    "from matplotlib import pyplot as plt\n"
   ]
  },
  {
   "cell_type": "code",
   "execution_count": 57,
   "metadata": {},
   "outputs": [],
   "source": [
    "def generate_example_tasks():\n",
    "    for p in np.arange(0.001, 0.01, 0.002):\n",
    "        for d in [5, 7, 9]:\n",
    "            sc_circuit = stim.Circuit.generated(\n",
    "                rounds=d,\n",
    "                distance=d,\n",
    "                after_clifford_depolarization=p,\n",
    "                after_reset_flip_probability=p,\n",
    "                before_measure_flip_probability=p,\n",
    "                before_round_data_depolarization=p,\n",
    "                code_task=f'surface_code:rotated_memory_z',\n",
    "            )\n",
    "    return sc_circuit"
   ]
  },
  {
   "cell_type": "code",
   "execution_count": 59,
   "metadata": {},
   "outputs": [
    {
     "ename": "NameError",
     "evalue": "name 'sinter' is not defined",
     "output_type": "error",
     "traceback": [
      "\u001b[0;31m---------------------------------------------------------------------------\u001b[0m",
      "\u001b[0;31mNameError\u001b[0m                                 Traceback (most recent call last)",
      "Cell \u001b[0;32mIn[59], line 22\u001b[0m\n\u001b[1;32m      2\u001b[0m     samples \u001b[38;5;241m=\u001b[39m sinter\u001b[38;5;241m.\u001b[39mcollect(\n\u001b[1;32m      3\u001b[0m         num_workers\u001b[38;5;241m=\u001b[39m\u001b[38;5;241m10\u001b[39m,\n\u001b[1;32m      4\u001b[0m         max_shots\u001b[38;5;241m=\u001b[39m\u001b[38;5;241m20_000\u001b[39m,\n\u001b[0;32m   (...)\u001b[0m\n\u001b[1;32m     18\u001b[0m         save_resume_filepath\u001b[38;5;241m=\u001b[39m\u001b[38;5;124mf\u001b[39m\u001b[38;5;124m'\u001b[39m\u001b[38;5;124mbposd_surface_code.csv\u001b[39m\u001b[38;5;124m'\u001b[39m,\n\u001b[1;32m     19\u001b[0m     )\n\u001b[1;32m     21\u001b[0m \u001b[38;5;28;01mif\u001b[39;00m \u001b[38;5;18m__name__\u001b[39m \u001b[38;5;241m==\u001b[39m \u001b[38;5;124m'\u001b[39m\u001b[38;5;124m__main__\u001b[39m\u001b[38;5;124m'\u001b[39m:\n\u001b[0;32m---> 22\u001b[0m     \u001b[43mmain\u001b[49m\u001b[43m(\u001b[49m\u001b[43m)\u001b[49m\n",
      "Cell \u001b[0;32mIn[59], line 2\u001b[0m, in \u001b[0;36mmain\u001b[0;34m()\u001b[0m\n\u001b[1;32m      1\u001b[0m \u001b[38;5;28;01mdef\u001b[39;00m \u001b[38;5;21mmain\u001b[39m():\n\u001b[0;32m----> 2\u001b[0m     samples \u001b[38;5;241m=\u001b[39m \u001b[43msinter\u001b[49m\u001b[38;5;241m.\u001b[39mcollect(\n\u001b[1;32m      3\u001b[0m         num_workers\u001b[38;5;241m=\u001b[39m\u001b[38;5;241m10\u001b[39m,\n\u001b[1;32m      4\u001b[0m         max_shots\u001b[38;5;241m=\u001b[39m\u001b[38;5;241m20_000\u001b[39m,\n\u001b[1;32m      5\u001b[0m         max_errors\u001b[38;5;241m=\u001b[39m\u001b[38;5;241m100\u001b[39m,\n\u001b[1;32m      6\u001b[0m         tasks\u001b[38;5;241m=\u001b[39mgenerate_example_tasks(),\n\u001b[1;32m      7\u001b[0m         decoders\u001b[38;5;241m=\u001b[39m[\u001b[38;5;124m'\u001b[39m\u001b[38;5;124mbposd\u001b[39m\u001b[38;5;124m'\u001b[39m],\n\u001b[1;32m      8\u001b[0m         custom_decoders\u001b[38;5;241m=\u001b[39m{\n\u001b[1;32m      9\u001b[0m             \u001b[38;5;124m'\u001b[39m\u001b[38;5;124mbposd\u001b[39m\u001b[38;5;124m'\u001b[39m: BpOsdDecoder(\n\u001b[1;32m     10\u001b[0m                 max_iter\u001b[38;5;241m=\u001b[39m\u001b[38;5;241m10\u001b[39m,\n\u001b[1;32m     11\u001b[0m                 bp_method\u001b[38;5;241m=\u001b[39m\u001b[38;5;124m\"\u001b[39m\u001b[38;5;124mms\u001b[39m\u001b[38;5;124m\"\u001b[39m,\n\u001b[1;32m     12\u001b[0m                 ms_scaling_factor\u001b[38;5;241m=\u001b[39m\u001b[38;5;241m0.625\u001b[39m,\n\u001b[1;32m     13\u001b[0m                 schedule\u001b[38;5;241m=\u001b[39m\u001b[38;5;124m\"\u001b[39m\u001b[38;5;124mparallel\u001b[39m\u001b[38;5;124m\"\u001b[39m,\n\u001b[1;32m     14\u001b[0m                 osd_method\u001b[38;5;241m=\u001b[39m\u001b[38;5;124m\"\u001b[39m\u001b[38;5;124mosd0\u001b[39m\u001b[38;5;124m\"\u001b[39m)\n\u001b[1;32m     15\u001b[0m         },\n\u001b[1;32m     16\u001b[0m \n\u001b[1;32m     17\u001b[0m         print_progress\u001b[38;5;241m=\u001b[39m\u001b[38;5;28;01mTrue\u001b[39;00m,\n\u001b[1;32m     18\u001b[0m         save_resume_filepath\u001b[38;5;241m=\u001b[39m\u001b[38;5;124mf\u001b[39m\u001b[38;5;124m'\u001b[39m\u001b[38;5;124mbposd_surface_code.csv\u001b[39m\u001b[38;5;124m'\u001b[39m,\n\u001b[1;32m     19\u001b[0m     )\n",
      "\u001b[0;31mNameError\u001b[0m: name 'sinter' is not defined"
     ]
    }
   ],
   "source": [
    "def main():\n",
    "    samples = sinter.collect(\n",
    "        num_workers=10,\n",
    "        max_shots=20_000,\n",
    "        max_errors=100,\n",
    "        tasks=generate_example_tasks(),\n",
    "        decoders=['bposd'],\n",
    "        custom_decoders={\n",
    "            'bposd': BpOsdDecoder(\n",
    "                max_iter=10,\n",
    "                bp_method=\"ms\",\n",
    "                ms_scaling_factor=0.625,\n",
    "                schedule=\"parallel\",\n",
    "                osd_method=\"osd0\")\n",
    "        },\n",
    "\n",
    "        print_progress=True,\n",
    "        save_resume_filepath=f'bposd_surface_code.csv',\n",
    "    )\n",
    "\n",
    "if __name__ == '__main__':\n",
    "    main()"
   ]
  },
  {
   "cell_type": "code",
   "execution_count": null,
   "metadata": {},
   "outputs": [],
   "source": []
  }
 ],
 "metadata": {
  "kernelspec": {
   "display_name": "Python 3",
   "language": "python",
   "name": "python3"
  },
  "language_info": {
   "codemirror_mode": {
    "name": "ipython",
    "version": 3
   },
   "file_extension": ".py",
   "mimetype": "text/x-python",
   "name": "python",
   "nbconvert_exporter": "python",
   "pygments_lexer": "ipython3",
   "version": "3.12.3"
  }
 },
 "nbformat": 4,
 "nbformat_minor": 2
}
